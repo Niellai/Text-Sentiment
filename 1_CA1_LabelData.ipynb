{
 "cells": [
  {
   "cell_type": "code",
   "execution_count": 2,
   "metadata": {},
   "outputs": [
    {
     "data": {
      "text/plain": [
       "'D:\\\\NUS Masters\\\\Sem2\\\\Sentiment Mining\\\\CA\\\\Corpus'"
      ]
     },
     "execution_count": 2,
     "metadata": {},
     "output_type": "execute_result"
    }
   ],
   "source": [
    "import os\n",
    "import nltk\n",
    "import pandas as pd\n",
    "import matplotlib.pyplot as plt\n",
    "\n",
    "from os import getcwd\n",
    "from nltk.corpus import stopwords\n",
    "from vaderSentiment.vaderSentiment import SentimentIntensityAnalyzer\n",
    "\n",
    "from IPython.display import Image\n",
    "from IPython.core.display import HTML \n",
    "from IPython.display import Image\n",
    "%matplotlib inline    \n",
    "\n",
    "data_dir = os.path.join(getcwd(), 'Corpus')\n",
    "data_dir"
   ]
  },
  {
   "cell_type": "code",
   "execution_count": 22,
   "metadata": {},
   "outputs": [
    {
     "name": "stdout",
     "output_type": "stream",
     "text": [
      "Total size: 1243\n"
     ]
    },
    {
     "data": {
      "text/html": [
       "<div>\n",
       "<style scoped>\n",
       "    .dataframe tbody tr th:only-of-type {\n",
       "        vertical-align: middle;\n",
       "    }\n",
       "\n",
       "    .dataframe tbody tr th {\n",
       "        vertical-align: top;\n",
       "    }\n",
       "\n",
       "    .dataframe thead th {\n",
       "        text-align: right;\n",
       "    }\n",
       "</style>\n",
       "<table border=\"1\" class=\"dataframe\">\n",
       "  <thead>\n",
       "    <tr style=\"text-align: right;\">\n",
       "      <th></th>\n",
       "      <th>Unnamed: 0</th>\n",
       "      <th>url</th>\n",
       "      <th>restaurant_name</th>\n",
       "      <th>biz_id</th>\n",
       "      <th>restaurant_address</th>\n",
       "      <th>country</th>\n",
       "      <th>restaurant_area</th>\n",
       "      <th>longitude</th>\n",
       "      <th>latitude</th>\n",
       "      <th>listed_category</th>\n",
       "      <th>overall_review</th>\n",
       "      <th>username</th>\n",
       "      <th>user_location</th>\n",
       "      <th>friend_count</th>\n",
       "      <th>review_count</th>\n",
       "      <th>user_overall_rating</th>\n",
       "      <th>review_date</th>\n",
       "      <th>user_review</th>\n",
       "    </tr>\n",
       "  </thead>\n",
       "  <tbody>\n",
       "    <tr>\n",
       "      <th>386</th>\n",
       "      <td>386</td>\n",
       "      <td>https://www.yelp.com/biz/Fat-Cow-Singapore</td>\n",
       "      <td>Fat Cow</td>\n",
       "      <td>l5lEOq47ne-jWKl67VKwZA</td>\n",
       "      <td>1 Orchard Boulevard, Singapore 248649</td>\n",
       "      <td>Singapore</td>\n",
       "      <td>Tanglin</td>\n",
       "      <td>103.823715</td>\n",
       "      <td>1.303152</td>\n",
       "      <td>Japanese, Steakhouses</td>\n",
       "      <td>29 reviews</td>\n",
       "      <td>Eddy X.</td>\n",
       "      <td>Singapore, Singapore</td>\n",
       "      <td>31</td>\n",
       "      <td>2</td>\n",
       "      <td>4</td>\n",
       "      <td>24/1/2018</td>\n",
       "      <td>Very good in food, service, environment. Not d...</td>\n",
       "    </tr>\n",
       "    <tr>\n",
       "      <th>570</th>\n",
       "      <td>570</td>\n",
       "      <td>https://www.yelp.com/biz/Hill-Street-Tai-Hwa-P...</td>\n",
       "      <td>Tai Wah Pork Noodle</td>\n",
       "      <td>j_aIYB4uGOR45jAXivFNZQ</td>\n",
       "      <td>466 Crawford Lane, Singapore 190465</td>\n",
       "      <td>Singapore</td>\n",
       "      <td>Lavender</td>\n",
       "      <td>103.862343</td>\n",
       "      <td>1.305307</td>\n",
       "      <td>Chinese, Noodles</td>\n",
       "      <td>72 reviews</td>\n",
       "      <td>Princess M.</td>\n",
       "      <td>New York, NY</td>\n",
       "      <td>33</td>\n",
       "      <td>337</td>\n",
       "      <td>5</td>\n",
       "      <td>31/7/2014</td>\n",
       "      <td>Totally worth the wait and everytime I've been...</td>\n",
       "    </tr>\n",
       "    <tr>\n",
       "      <th>799</th>\n",
       "      <td>799</td>\n",
       "      <td>https://www.yelp.com/biz/Man-Fu-Yuan-Singapore</td>\n",
       "      <td>Man Fu Yuan</td>\n",
       "      <td>1eIG4rTx_qFlH7Rm-C5u3A</td>\n",
       "      <td>80 Middle Rd, Singapore 188966</td>\n",
       "      <td>Singapore</td>\n",
       "      <td>Bugis</td>\n",
       "      <td>103.855669</td>\n",
       "      <td>1.299430</td>\n",
       "      <td>Dim Sum</td>\n",
       "      <td>10 reviews</td>\n",
       "      <td>Mark D.</td>\n",
       "      <td>Sacramento, CA</td>\n",
       "      <td>540</td>\n",
       "      <td>790</td>\n",
       "      <td>2</td>\n",
       "      <td>13/8/2013</td>\n",
       "      <td>This is a review of a dinner with a friend at ...</td>\n",
       "    </tr>\n",
       "    <tr>\n",
       "      <th>1136</th>\n",
       "      <td>1136</td>\n",
       "      <td>https://www.yelp.com/biz/Whole-Earth-Singapore</td>\n",
       "      <td>Whole Earth</td>\n",
       "      <td>gQVBGe7A45rXgV6NL7X_mg</td>\n",
       "      <td>76 Peck Seah St, Singapore 079331</td>\n",
       "      <td>Singapore</td>\n",
       "      <td>Tanjong Pagar</td>\n",
       "      <td>103.844759</td>\n",
       "      <td>1.277253</td>\n",
       "      <td>Thai, Vegetarian</td>\n",
       "      <td>26 reviews</td>\n",
       "      <td>Natalie K.</td>\n",
       "      <td>New York, NY</td>\n",
       "      <td>588</td>\n",
       "      <td>362</td>\n",
       "      <td>5</td>\n",
       "      <td>20/7/2018</td>\n",
       "      <td>Amazing vegan peranakan food! Almost 100% vega...</td>\n",
       "    </tr>\n",
       "    <tr>\n",
       "      <th>143</th>\n",
       "      <td>143</td>\n",
       "      <td>https://www.yelp.com/biz/Burnt-Ends-Singapore</td>\n",
       "      <td>Burnt Ends</td>\n",
       "      <td>vVqxGrqt5ALxQjJGnntpKQ</td>\n",
       "      <td>20 Teck Lim Rd, Singapore 088391</td>\n",
       "      <td>Singapore</td>\n",
       "      <td>Chinatown</td>\n",
       "      <td>103.841807</td>\n",
       "      <td>1.280520</td>\n",
       "      <td>Australian, Steakhouses, Barbeque</td>\n",
       "      <td>55 reviews</td>\n",
       "      <td>Doreen T.</td>\n",
       "      <td>Singapore, Singapore</td>\n",
       "      <td>67</td>\n",
       "      <td>614</td>\n",
       "      <td>4</td>\n",
       "      <td>26/12/2016</td>\n",
       "      <td>The restaurant was tiny in size with about 19 ...</td>\n",
       "    </tr>\n",
       "  </tbody>\n",
       "</table>\n",
       "</div>"
      ],
      "text/plain": [
       "      Unnamed: 0                                                url  \\\n",
       "386          386         https://www.yelp.com/biz/Fat-Cow-Singapore   \n",
       "570          570  https://www.yelp.com/biz/Hill-Street-Tai-Hwa-P...   \n",
       "799          799     https://www.yelp.com/biz/Man-Fu-Yuan-Singapore   \n",
       "1136        1136     https://www.yelp.com/biz/Whole-Earth-Singapore   \n",
       "143          143      https://www.yelp.com/biz/Burnt-Ends-Singapore   \n",
       "\n",
       "          restaurant_name                  biz_id  \\\n",
       "386               Fat Cow  l5lEOq47ne-jWKl67VKwZA   \n",
       "570   Tai Wah Pork Noodle  j_aIYB4uGOR45jAXivFNZQ   \n",
       "799           Man Fu Yuan  1eIG4rTx_qFlH7Rm-C5u3A   \n",
       "1136          Whole Earth  gQVBGe7A45rXgV6NL7X_mg   \n",
       "143            Burnt Ends  vVqxGrqt5ALxQjJGnntpKQ   \n",
       "\n",
       "                         restaurant_address     country restaurant_area  \\\n",
       "386   1 Orchard Boulevard, Singapore 248649   Singapore         Tanglin   \n",
       "570     466 Crawford Lane, Singapore 190465   Singapore        Lavender   \n",
       "799          80 Middle Rd, Singapore 188966   Singapore           Bugis   \n",
       "1136      76 Peck Seah St, Singapore 079331   Singapore   Tanjong Pagar   \n",
       "143        20 Teck Lim Rd, Singapore 088391   Singapore       Chinatown   \n",
       "\n",
       "       longitude  latitude                    listed_category overall_review  \\\n",
       "386   103.823715  1.303152              Japanese, Steakhouses     29 reviews   \n",
       "570   103.862343  1.305307                   Chinese, Noodles     72 reviews   \n",
       "799   103.855669  1.299430                            Dim Sum     10 reviews   \n",
       "1136  103.844759  1.277253                   Thai, Vegetarian     26 reviews   \n",
       "143   103.841807  1.280520  Australian, Steakhouses, Barbeque     55 reviews   \n",
       "\n",
       "         username         user_location  friend_count  review_count  \\\n",
       "386       Eddy X.  Singapore, Singapore            31             2   \n",
       "570   Princess M.          New York, NY            33           337   \n",
       "799       Mark D.        Sacramento, CA           540           790   \n",
       "1136   Natalie K.          New York, NY           588           362   \n",
       "143     Doreen T.  Singapore, Singapore            67           614   \n",
       "\n",
       "      user_overall_rating review_date  \\\n",
       "386                     4   24/1/2018   \n",
       "570                     5   31/7/2014   \n",
       "799                     2   13/8/2013   \n",
       "1136                    5   20/7/2018   \n",
       "143                     4  26/12/2016   \n",
       "\n",
       "                                            user_review  \n",
       "386   Very good in food, service, environment. Not d...  \n",
       "570   Totally worth the wait and everytime I've been...  \n",
       "799   This is a review of a dinner with a friend at ...  \n",
       "1136  Amazing vegan peranakan food! Almost 100% vega...  \n",
       "143   The restaurant was tiny in size with about 19 ...  "
      ]
     },
     "execution_count": 22,
     "metadata": {},
     "output_type": "execute_result"
    }
   ],
   "source": [
    "sgyelp_dir = os.path.join(data_dir, 'YelpReview_SG.csv')\n",
    "SG_DF = pd.read_csv(sgyelp_dir, encoding='iso-8859-1')\n",
    "\n",
    "print(\"Total size: {}\".format(len(SG_DF)))\n",
    "\n",
    "SG_DF.sample(n=5)"
   ]
  },
  {
   "cell_type": "markdown",
   "metadata": {},
   "source": [
    "<h3>VADER Sentiment Analysis</h3>\n",
    "<br>\n",
    "A lexicon and rule-based sentiment analysis tool that is specifically attuned to sentiments expressed in social media.\n",
    "<br>\n",
    "Reference:<br>\n",
    "https://medium.com/analytics-vidhya/simplifying-social-media-sentiment-analysis-using-vader-in-python-f9e6ec6fc52f"
   ]
  },
  {
   "cell_type": "code",
   "execution_count": 23,
   "metadata": {},
   "outputs": [],
   "source": [
    "analyser = SentimentIntensityAnalyzer()\n",
    "tokenizer = nltk.data.load('tokenizers/punkt/english.pickle')\n",
    "\n",
    "def break_into_sentences(doc):\n",
    "    return tokenizer.tokenize(doc)\n",
    "\n",
    "def sentiment_score(sentence, to_print=True):\n",
    "    score = analyser.polarity_scores(sentence)\n",
    "    if to_print:\n",
    "        print(\"{:-<40} {}\".format(sentence, score))\n",
    "    else:\n",
    "        return score"
   ]
  },
  {
   "cell_type": "markdown",
   "metadata": {},
   "source": [
    "<h3>Exloring VADER library and types of sentiment it can handle</h3>\n",
    "\n",
    "![Image of Sentiment Score](https://cdn-images-1.medium.com/max/1600/1*G8yV2iaqqfaGfmRPRem2Fw.png)"
   ]
  },
  {
   "cell_type": "code",
   "execution_count": 25,
   "metadata": {
    "scrolled": true
   },
   "outputs": [
    {
     "name": "stdout",
     "output_type": "stream",
     "text": [
      "I am an ass.---------------------------- {'neu': 0.364, 'pos': 0.0, 'compound': -0.5423, 'neg': 0.636}\n"
     ]
    }
   ],
   "source": [
    "sentiment_score(\"I am an ass.\")"
   ]
  },
  {
   "cell_type": "markdown",
   "metadata": {},
   "source": [
    "<b>Punctuation:</b> Exclamation mark(!), increases the magnitude of sematic. Number of (!) incease the magnitude accordingly."
   ]
  },
  {
   "cell_type": "code",
   "execution_count": 24,
   "metadata": {},
   "outputs": [
    {
     "name": "stdout",
     "output_type": "stream",
     "text": [
      "This chicken rice is really good!------- {'neg': 0.0, 'pos': 0.411, 'neu': 0.589, 'compound': 0.54}\n",
      "This chicken rice is really good!!!----- {'neg': 0.0, 'pos': 0.449, 'neu': 0.551, 'compound': 0.6211}\n"
     ]
    }
   ],
   "source": [
    "sentiment_score(\"This chicken rice is really good!\")\n",
    "sentiment_score(\"This chicken rice is really good!!!\")"
   ]
  },
  {
   "cell_type": "markdown",
   "metadata": {},
   "source": [
    "<b>Capitalization:</b> Using upper case letters to emphasize sentiment of relevant word will increase the magnitude. <br>\n",
    "<b>Impactful word:</b> Use a more intensive word will also increase sentiment magnitude.<br>"
   ]
  },
  {
   "cell_type": "code",
   "execution_count": 30,
   "metadata": {},
   "outputs": [
    {
     "name": "stdout",
     "output_type": "stream",
     "text": [
      "This chicken rice is extremely fantastic! {'neg': 0.0, 'pos': 0.456, 'neu': 0.544, 'compound': 0.6352}\n",
      "This chicken rice is EXTREMELY fantastic! {'neg': 0.0, 'pos': 0.496, 'neu': 0.504, 'compound': 0.7112}\n"
     ]
    }
   ],
   "source": [
    "sentiment_score(\"This chicken rice is extremely fantastic!\")\n",
    "sentiment_score(\"This chicken rice is EXTREMELY fantastic!\")"
   ]
  },
  {
   "cell_type": "markdown",
   "metadata": {},
   "source": [
    "<b>Conjunctions:</b> Use of conjunctions like \"but\" shift the sentiment polarity.<br>\n",
    "<b>Slangs:</b> Uses of slang can be accepted by the package.<br>\n",
    "<b>Emojis:</b> VADER can handles both slangs and emojis."
   ]
  },
  {
   "cell_type": "code",
   "execution_count": 25,
   "metadata": {},
   "outputs": [
    {
     "name": "stdout",
     "output_type": "stream",
     "text": [
      "This chicken rice is EXTREMELY good but service sux. {'neg': 0.256, 'pos': 0.194, 'neu': 0.551, 'compound': -0.1991}\n",
      "This chicken rice is really good. 😄----- {'neg': 0.0, 'pos': 0.529, 'neu': 0.471, 'compound': 0.839}\n"
     ]
    }
   ],
   "source": [
    "sentiment_score(\"This chicken rice is EXTREMELY good but service sux.\")\n",
    "sentiment_score(\"This chicken rice is really good. 😄\")"
   ]
  },
  {
   "cell_type": "markdown",
   "metadata": {},
   "source": [
    "<h3>Converting rating to positive or negative sentiment.</h3> <br>\n",
    "Negative: 1-3 <br>\n",
    "Positive: 4-5 <br>"
   ]
  },
  {
   "cell_type": "code",
   "execution_count": 24,
   "metadata": {},
   "outputs": [
    {
     "data": {
      "text/plain": [
       "1243"
      ]
     },
     "execution_count": 24,
     "metadata": {},
     "output_type": "execute_result"
    }
   ],
   "source": [
    "sentiment = []\n",
    "sentiment_threshold = 3\n",
    "\n",
    "for idx, doc in SG_DF.iterrows():\n",
    "    if doc['user_overall_rating'] <= sentiment_threshold:\n",
    "        sentiment.append(-1)\n",
    "    else:\n",
    "        sentiment.append(1)\n",
    "\n",
    "SG_DF['sentiment'] = sentiment\n",
    "len(SG_DF)"
   ]
  },
  {
   "cell_type": "markdown",
   "metadata": {},
   "source": [
    "<h3>Exploring dataset</h3>\n",
    "To have a better understanding on what we are working on. Some exploration is required.<br>\n",
    "This dataset have more than 2x more positive than negative comments.<br>\n",
    "Top 3 categories with most comments are:<br>\n",
    "('Chinese', 267), ('Asian Fusion', 154), ('Noodles', 148)"
   ]
  },
  {
   "cell_type": "code",
   "execution_count": 46,
   "metadata": {},
   "outputs": [
    {
     "data": {
      "image/png": "[encoded data removed]",
      "text/plain": [
       "<Figure size 432x288 with 1 Axes>"
      ]
     },
     "metadata": {},
     "output_type": "display_data"
    }
   ],
   "source": [
    "# Visualise number of positive and negative reviews\n",
    "neg = [doc for idx, doc in SG_DF.iterrows() if doc['user_overall_rating'] <= sentiment_threshold]\n",
    "pos = [doc for idx, doc in SG_DF.iterrows() if doc['user_overall_rating'] > sentiment_threshold]\n",
    "plt.title(\"Sentiment overview of corpus\")\n",
    "plt.bar(['Positive', 'Negative'], [len(pos), len(neg)])\n",
    "plt.show()"
   ]
  },
  {
   "cell_type": "markdown",
   "metadata": {},
   "source": [
    "<h3> What is in 3 stars rating</h3>\n",
    "\n",
    "3 Stars rating holds a mixture positive and negative rating. Most user give 3 stars rating with a relative positive comments.\n"
   ]
  },
  {
   "cell_type": "code",
   "execution_count": 47,
   "metadata": {},
   "outputs": [
    {
     "data": {
      "image/png": "[encoded data removed]",
      "text/plain": [
       "<Figure size 432x288 with 1 Axes>"
      ]
     },
     "metadata": {},
     "output_type": "display_data"
    }
   ],
   "source": [
    "# Ignoring all 3 star rating\n",
    "rating3 = []\n",
    "pred_rate3 = []\n",
    "FILTERED_SG_DF = SG_DF[(SG_DF['user_overall_rating'] == 3)]\n",
    "\n",
    "for idx, row in FILTERED_SG_DF.iterrows():\n",
    "    score = sentiment_score(row['user_review'], to_print=False)\n",
    "    score = score['compound']\n",
    "    if score < 0.05:\n",
    "        pred_rate3.append(-1)\n",
    "    else:\n",
    "        pred_rate3.append(1)\n",
    "\n",
    "neg = len([i for i in pred_rate3 if i == -1])\n",
    "pos = len([i for i in pred_rate3 if i == 1])\n",
    "\n",
    "plt.title(\"Sentiment on 3 stars rating\")\n",
    "plt.bar(['Positive', 'Negative'], [pos, neg])\n",
    "plt.show()"
   ]
  },
  {
   "cell_type": "code",
   "execution_count": 26,
   "metadata": {},
   "outputs": [
    {
     "name": "stdout",
     "output_type": "stream",
     "text": [
      "unique_categories: 49\n",
      "{'Japanese', 'Chinese', 'French', 'Italian', 'Cocktail Bars', 'Food Stands', 'Noodles', 'Farmers Market', 'Street Vendors', 'Soup', 'Venues & Event Spaces', 'Thai', 'Vegetarian', 'Ramen', 'Spanish', 'Steakhouses', 'Bakeries', 'Nasi Lemak', 'Imported Food', 'Pakistani', 'Local Flavor', 'Seafood', 'Breakfast & Brunch', 'Mediterranean', 'Food', 'Dim Sum', 'Shanghainese', 'Bars', 'Lounges', 'Asian Fusion', 'Mexican', 'Sushi Bars', 'Ice Cream & Frozen Yogurt', 'Cantonese', 'Singaporean', 'American (Traditional)', 'Fondue', 'Gelato', 'Indian', 'Restaurants', 'Barbeque', 'Szechuan', 'Malaysian', 'Australian', 'Modern European', 'Brasseries', 'Wine Bars', 'Cafes', 'Tapas/Small Plates'}\n",
      "\n",
      "[('Chinese', 267), ('Asian Fusion', 154), ('Noodles', 148), ('Steakhouses', 136), ('Singaporean', 125), ('French', 106), ('Indian', 102), ('Spanish', 79), ('Japanese', 67), ('Australian', 67), ('Food Stands', 56), ('Barbeque', 55), ('Thai', 53), ('Italian', 50), ('American (Traditional)', 48), ('Modern European', 47), ('Cocktail Bars', 46), ('Cantonese', 45), ('Dim Sum', 43), ('Street Vendors', 41), ('Tapas/Small Plates', 41), ('Bars', 40), ('Shanghainese', 31), ('Lounges', 28), ('Fondue', 28), ('Vegetarian', 25), ('Seafood', 25), ('Food', 21), ('Mediterranean', 20), ('Ramen', 13), ('Wine Bars', 13), ('Brasseries', 13), ('Breakfast & Brunch', 12), ('Szechuan', 12), ('Restaurants', 11), ('Ice Cream & Frozen Yogurt', 10), ('Gelato', 10), ('Venues & Event Spaces', 7), ('Nasi Lemak', 7), ('Pakistani', 7), ('Local Flavor', 7), ('Malaysian', 7), ('Cafes', 7), ('Imported Food', 6), ('Sushi Bars', 6), ('Farmers Market', 4), ('Mexican', 3), ('Soup', 2), ('Bakeries', 1)]\n"
     ]
    }
   ],
   "source": [
    "# Get all unique categories in dataset\n",
    "unique_categories = []\n",
    "for idx, doc in SG_DF.iterrows():\n",
    "    for cat in doc['listed_category'].split(','):        \n",
    "        unique_categories.append(cat.strip())\n",
    "\n",
    "unique_categories = set(unique_categories)\n",
    "print(\"unique_categories: {}\".format(len(unique_categories)))\n",
    "print(unique_categories)\n",
    "print()\n",
    "\n",
    "# Count the total number comments on each categories.\n",
    "# Note that categories will overlap.\n",
    "rest_category = dict.fromkeys(unique_categories, 0)\n",
    "for idx, doc in SG_DF.iterrows():\n",
    "    for cat in doc['listed_category'].split(','):\n",
    "        cat = cat.strip()\n",
    "        rest_category[cat] += 1\n",
    "\n",
    "rest_category = sorted(rest_category.items(), key=lambda k: k[1], reverse=True)\n",
    "print(rest_category)"
   ]
  },
  {
   "cell_type": "markdown",
   "metadata": {},
   "source": [
    "<h3>Measuring VARDER performance</h3>\n",
    "Using VARDER package and to predict sentiment value for each comment.<br>\n",
    "\n",
    "![Compound score metric](https://cdn-images-1.medium.com/max/1600/1*G8yV2iaqqfaGfmRPRem2Fw.png)<br>\n",
    "VARDER provides neutral category, for fitting our needs to either positive or negative. Neutral category will be label as negative. We will be using the compound score."
   ]
  },
  {
   "cell_type": "code",
   "execution_count": 49,
   "metadata": {},
   "outputs": [
    {
     "data": {
      "text/html": [
       "<div>\n",
       "<style scoped>\n",
       "    .dataframe tbody tr th:only-of-type {\n",
       "        vertical-align: middle;\n",
       "    }\n",
       "\n",
       "    .dataframe tbody tr th {\n",
       "        vertical-align: top;\n",
       "    }\n",
       "\n",
       "    .dataframe thead th {\n",
       "        text-align: right;\n",
       "    }\n",
       "</style>\n",
       "<table border=\"1\" class=\"dataframe\">\n",
       "  <thead>\n",
       "    <tr style=\"text-align: right;\">\n",
       "      <th></th>\n",
       "      <th>Unnamed: 0</th>\n",
       "      <th>url</th>\n",
       "      <th>restaurant_name</th>\n",
       "      <th>biz_id</th>\n",
       "      <th>restaurant_address</th>\n",
       "      <th>country</th>\n",
       "      <th>restaurant_area</th>\n",
       "      <th>longitude</th>\n",
       "      <th>latitude</th>\n",
       "      <th>listed_category</th>\n",
       "      <th>overall_review</th>\n",
       "      <th>username</th>\n",
       "      <th>user_location</th>\n",
       "      <th>friend_count</th>\n",
       "      <th>review_count</th>\n",
       "      <th>user_overall_rating</th>\n",
       "      <th>review_date</th>\n",
       "      <th>user_review</th>\n",
       "      <th>sentiment</th>\n",
       "      <th>pred_sentiment</th>\n",
       "    </tr>\n",
       "  </thead>\n",
       "  <tbody>\n",
       "    <tr>\n",
       "      <th>842</th>\n",
       "      <td>842</td>\n",
       "      <td>https://www.yelp.com/biz/New-World-Mutton-Soup...</td>\n",
       "      <td>New World Mutton Soup</td>\n",
       "      <td>ooey0SsVFEPvCT7Bol8ycQ</td>\n",
       "      <td>Bedok Interchange Food Centre, Singapore 460207</td>\n",
       "      <td>Singapore</td>\n",
       "      <td>Bedok North</td>\n",
       "      <td>103.930374</td>\n",
       "      <td>1.325297</td>\n",
       "      <td>Street Vendors</td>\n",
       "      <td>4 reviews</td>\n",
       "      <td>Huiyin S.</td>\n",
       "      <td>Singapore, Singapore</td>\n",
       "      <td>5</td>\n",
       "      <td>230</td>\n",
       "      <td>4</td>\n",
       "      <td>29/7/2012</td>\n",
       "      <td>This store has been around since I was a young...</td>\n",
       "      <td>1</td>\n",
       "      <td>1</td>\n",
       "    </tr>\n",
       "  </tbody>\n",
       "</table>\n",
       "</div>"
      ],
      "text/plain": [
       "     Unnamed: 0                                                url  \\\n",
       "842         842  https://www.yelp.com/biz/New-World-Mutton-Soup...   \n",
       "\n",
       "           restaurant_name                  biz_id  \\\n",
       "842  New World Mutton Soup  ooey0SsVFEPvCT7Bol8ycQ   \n",
       "\n",
       "                                  restaurant_address     country  \\\n",
       "842  Bedok Interchange Food Centre, Singapore 460207   Singapore   \n",
       "\n",
       "    restaurant_area   longitude  latitude listed_category overall_review  \\\n",
       "842     Bedok North  103.930374  1.325297  Street Vendors      4 reviews   \n",
       "\n",
       "      username         user_location  friend_count  review_count  \\\n",
       "842  Huiyin S.  Singapore, Singapore             5           230   \n",
       "\n",
       "     user_overall_rating review_date  \\\n",
       "842                    4   29/7/2012   \n",
       "\n",
       "                                           user_review  sentiment  \\\n",
       "842  This store has been around since I was a young...          1   \n",
       "\n",
       "     pred_sentiment  \n",
       "842               1  "
      ]
     },
     "execution_count": 49,
     "metadata": {},
     "output_type": "execute_result"
    }
   ],
   "source": [
    "# converting predicted value to either positive or negative\n",
    "pred_scores = []\n",
    "for idx, doc in SG_DF.iterrows():\n",
    "    score = sentiment_score(doc['user_review'], to_print=False)\n",
    "    score = score['compound']\n",
    "    if score < 0.05:\n",
    "        pred_scores.append(-1)\n",
    "    else:\n",
    "        pred_scores.append(1)\n",
    "        \n",
    "SG_DF['pred_sentiment'] = pred_scores\n",
    "SG_DF.sample()"
   ]
  },
  {
   "cell_type": "code",
   "execution_count": 50,
   "metadata": {},
   "outputs": [
    {
     "data": {
      "text/html": [
       "<div>\n",
       "<style scoped>\n",
       "    .dataframe tbody tr th:only-of-type {\n",
       "        vertical-align: middle;\n",
       "    }\n",
       "\n",
       "    .dataframe tbody tr th {\n",
       "        vertical-align: top;\n",
       "    }\n",
       "\n",
       "    .dataframe thead th {\n",
       "        text-align: right;\n",
       "    }\n",
       "</style>\n",
       "<table border=\"1\" class=\"dataframe\">\n",
       "  <thead>\n",
       "    <tr style=\"text-align: right;\">\n",
       "      <th>pred</th>\n",
       "      <th>-1</th>\n",
       "      <th>1</th>\n",
       "      <th>All</th>\n",
       "    </tr>\n",
       "    <tr>\n",
       "      <th>actuals</th>\n",
       "      <th></th>\n",
       "      <th></th>\n",
       "      <th></th>\n",
       "    </tr>\n",
       "  </thead>\n",
       "  <tbody>\n",
       "    <tr>\n",
       "      <th>-1</th>\n",
       "      <td>72</td>\n",
       "      <td>248</td>\n",
       "      <td>320</td>\n",
       "    </tr>\n",
       "    <tr>\n",
       "      <th>1</th>\n",
       "      <td>29</td>\n",
       "      <td>894</td>\n",
       "      <td>923</td>\n",
       "    </tr>\n",
       "    <tr>\n",
       "      <th>All</th>\n",
       "      <td>101</td>\n",
       "      <td>1142</td>\n",
       "      <td>1243</td>\n",
       "    </tr>\n",
       "  </tbody>\n",
       "</table>\n",
       "</div>"
      ],
      "text/plain": [
       "pred      -1     1   All\n",
       "actuals                 \n",
       "-1        72   248   320\n",
       "1         29   894   923\n",
       "All      101  1142  1243"
      ]
     },
     "execution_count": 50,
     "metadata": {},
     "output_type": "execute_result"
    }
   ],
   "source": [
    "actuals = SG_DF['sentiment']\n",
    "pred = SG_DF['pred_sentiment']\n",
    "\n",
    "confm = pd.crosstab( pd.Series(actuals), pd.Series(pred), rownames= ['actuals'], colnames=['pred'],margins=True)\n",
    "confm"
   ]
  },
  {
   "cell_type": "markdown",
   "metadata": {},
   "source": [
    "Precision defines how accurately we can identify True Positive examples.\n",
    "$$\n",
    " Precision = \\frac{T_P}{T_P+F_P} \n",
    "$$ \n",
    "\n",
    "Recalls defines how complete we can identify all the True Positive examples.\n",
    "$$\n",
    " Recall =  \\frac{T_P}{T_P+F_n}\n",
    "$$\n",
    "\n",
    "Specificity defines how accurately we can identify True Negative examples.\n",
    "$$\n",
    "Specificity = \\frac{T_N}{T_N+F_P}\n",
    "$$\n",
    "\n",
    "F1 is a measure that combine precision and recall.\n",
    "$$\n",
    " F1 =  2*\\frac{Precision*Recall}{Precision+Recall}\n",
    "$$"
   ]
  },
  {
   "cell_type": "code",
   "execution_count": 29,
   "metadata": {},
   "outputs": [
    {
     "name": "stdout",
     "output_type": "stream",
     "text": [
      "TP: 894\n",
      "FP: 248\n",
      "FN: 29\n",
      "TN: 72\n",
      "\n",
      "Precision: 0.783\n",
      "Recall: 0.969\n",
      "Specificity: 0.225\n",
      "F1: 0.866\n"
     ]
    }
   ],
   "source": [
    "print(\"TP: {}\".format(confm[1][1]))\n",
    "print(\"FP: {}\".format(confm[1][-1]))\n",
    "print(\"FN: {}\".format(confm[-1][1]))\n",
    "print(\"TN: {}\".format(confm[-1][-1]))\n",
    "print()\n",
    "\n",
    "precision = (confm[1][1]) / (confm[1][1] + (confm[1][-1]))\n",
    "print (\"Precision: {}\".format(str(round(precision, 3))))\n",
    "\n",
    "recall = (confm[1][1]) / (confm[1][1] + (confm[-1][1]))\n",
    "print (\"Recall: {}\".format(str(round(recall, 3))))\n",
    "\n",
    "specificity = (confm[-1][-1] / (confm[-1][-1] + confm[1][-1]))\n",
    "print (\"Specificity: {}\".format(str(round(specificity, 3))))\n",
    "\n",
    "f1 = 2 * ((precision * recall) / (precision + recall))\n",
    "print(\"F1: {}\".format(str(round(f1, 3))))"
   ]
  },
  {
   "cell_type": "markdown",
   "metadata": {},
   "source": [
    "Specificity performs poorly because majority of 3 stars rating contain positive comment. Relabel 3 stars rating comment or even removed 3 stars rating could improve specificity result."
   ]
  },
  {
   "cell_type": "code",
   "execution_count": 103,
   "metadata": {},
   "outputs": [
    {
     "name": "stdout",
     "output_type": "stream",
     "text": [
      "File loaded:\n",
      "D:\\Google Drive\\NUS Masters\\Sem2\\Sentiment Mining\\CA1\\Corpus\\YelpReview_SG_new.json\n"
     ]
    },
    {
     "data": {
      "text/html": [
       "<div>\n",
       "<style scoped>\n",
       "    .dataframe tbody tr th:only-of-type {\n",
       "        vertical-align: middle;\n",
       "    }\n",
       "\n",
       "    .dataframe tbody tr th {\n",
       "        vertical-align: top;\n",
       "    }\n",
       "\n",
       "    .dataframe thead th {\n",
       "        text-align: right;\n",
       "    }\n",
       "</style>\n",
       "<table border=\"1\" class=\"dataframe\">\n",
       "  <thead>\n",
       "    <tr style=\"text-align: right;\">\n",
       "      <th></th>\n",
       "      <th>Unnamed: 0</th>\n",
       "      <th>biz_id</th>\n",
       "      <th>country</th>\n",
       "      <th>friend_count</th>\n",
       "      <th>latitude</th>\n",
       "      <th>listed_category</th>\n",
       "      <th>longitude</th>\n",
       "      <th>overall_review</th>\n",
       "      <th>pred_sentiment</th>\n",
       "      <th>restaurant_address</th>\n",
       "      <th>restaurant_area</th>\n",
       "      <th>restaurant_name</th>\n",
       "      <th>review_count</th>\n",
       "      <th>review_date</th>\n",
       "      <th>sentitment</th>\n",
       "      <th>url</th>\n",
       "      <th>user_location</th>\n",
       "      <th>user_overall_rating</th>\n",
       "      <th>user_review</th>\n",
       "      <th>username</th>\n",
       "    </tr>\n",
       "  </thead>\n",
       "  <tbody>\n",
       "    <tr>\n",
       "      <th>345</th>\n",
       "      <td>345</td>\n",
       "      <td>uuBSb1jxFq2P0sHvTcnHYg</td>\n",
       "      <td>Singapore</td>\n",
       "      <td>189</td>\n",
       "      <td>1.287217</td>\n",
       "      <td>Chinese, Asian Fusion, Singaporean</td>\n",
       "      <td>103.85144</td>\n",
       "      <td>4 reviews</td>\n",
       "      <td>1</td>\n",
       "      <td>1 Empress Pl, Singapore 179555</td>\n",
       "      <td>City Hall</td>\n",
       "      <td>Empress</td>\n",
       "      <td>153</td>\n",
       "      <td>27/5/2016</td>\n",
       "      <td>1</td>\n",
       "      <td>https://www.yelp.com/biz/Empress-Singapore</td>\n",
       "      <td>Singapore, Singapore</td>\n",
       "      <td>5</td>\n",
       "      <td>Been here twice for dim sums in the weekends, ...</td>\n",
       "      <td>Eugenio F.</td>\n",
       "    </tr>\n",
       "  </tbody>\n",
       "</table>\n",
       "</div>"
      ],
      "text/plain": [
       "     Unnamed: 0                  biz_id     country  friend_count  latitude  \\\n",
       "345         345  uuBSb1jxFq2P0sHvTcnHYg   Singapore           189  1.287217   \n",
       "\n",
       "                        listed_category  longitude overall_review  \\\n",
       "345  Chinese, Asian Fusion, Singaporean  103.85144      4 reviews   \n",
       "\n",
       "     pred_sentiment              restaurant_address restaurant_area  \\\n",
       "345               1  1 Empress Pl, Singapore 179555       City Hall   \n",
       "\n",
       "    restaurant_name  review_count review_date  sentitment  \\\n",
       "345         Empress           153   27/5/2016           1   \n",
       "\n",
       "                                            url         user_location  \\\n",
       "345  https://www.yelp.com/biz/Empress-Singapore  Singapore, Singapore   \n",
       "\n",
       "     user_overall_rating                                        user_review  \\\n",
       "345                    5  Been here twice for dim sums in the weekends, ...   \n",
       "\n",
       "       username  \n",
       "345  Eugenio F.  "
      ]
     },
     "execution_count": 103,
     "metadata": {},
     "output_type": "execute_result"
    }
   ],
   "source": [
    "# saving current dataframe into csv\n",
    "file_name = os.path.join(data_dir, \"YelpReview_SG_new.json\")\n",
    "if not os.path.exists(file_name):\n",
    "    SG_DF.to_json(file_name)\n",
    "    print(\"File saved:\\n{}\".format(file_name))\n",
    "else:\n",
    "    SG_DF = pd.read_json(file_name, encoding='iso-8859-1') \n",
    "    print(\"File loaded:\\n{}\".format(file_name))\n"
   ]
  }
 ],
 "metadata": {
  "kernelspec": {
   "display_name": "Python 3",
   "language": "python",
   "name": "python3"
  },
  "language_info": {
   "codemirror_mode": {
    "name": "ipython",
    "version": 3
   },
   "file_extension": ".py",
   "mimetype": "text/x-python",
   "name": "python",
   "nbconvert_exporter": "python",
   "pygments_lexer": "ipython3",
   "version": "3.7.0"
  }
 },
 "nbformat": 4,
 "nbformat_minor": 2
}
